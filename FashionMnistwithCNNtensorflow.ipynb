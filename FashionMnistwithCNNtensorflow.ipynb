{
  "nbformat": 4,
  "nbformat_minor": 0,
  "metadata": {
    "colab": {
      "name": "FashionMnistwithCNNtensorflow.ipynb",
      "version": "0.3.2",
      "provenance": [],
      "private_outputs": true,
      "include_colab_link": true
    },
    "kernelspec": {
      "name": "python3",
      "display_name": "Python 3"
    },
    "accelerator": "GPU"
  },
  "cells": [
    {
      "cell_type": "markdown",
      "metadata": {
        "id": "view-in-github",
        "colab_type": "text"
      },
      "source": [
        "<a href=\"https://colab.research.google.com/github/MohammedQaraad/DeepleerningTF/blob/master/FashionMnistwithCNNtensorflow.ipynb\" target=\"_parent\"><img src=\"https://colab.research.google.com/assets/colab-badge.svg\" alt=\"Open In Colab\"/></a>"
      ]
    },
    {
      "cell_type": "code",
      "metadata": {
        "id": "vOdI16zl5MxZ",
        "colab_type": "code",
        "colab": {}
      },
      "source": [
        "# Import TensorFlow and TensorFlow Datasets\n",
        "import tensorflow as tf\n",
        "import tensorflow_datasets as tfds\n",
        "tf.logging.set_verbosity(tf.logging.ERROR)\n",
        "\n",
        "# Helper libraries\n",
        "import math\n",
        "import numpy as np\n",
        "import matplotlib.pyplot as plt\n",
        "\n",
        "# Improve progress bar display\n",
        "import tqdm\n",
        "import tqdm.auto\n",
        "tqdm.tqdm = tqdm.auto.tqdm\n",
        "\n",
        "\n",
        "print(tf.__version__)\n",
        "\n",
        "# This will go away in the future.\n",
        "# If this gives an error, you might be running TensorFlow 2 or above\n",
        "# If so, the just comment out this line and run this cell again\n",
        "tf.enable_eager_execution()  "
      ],
      "execution_count": 0,
      "outputs": []
    },
    {
      "cell_type": "code",
      "metadata": {
        "id": "r7GMyi4t5dUo",
        "colab_type": "code",
        "colab": {}
      },
      "source": [
        "dataset, metadata = tfds.load('fashion_mnist', as_supervised=True, with_info=True)\n",
        "train_dataset, test_dataset = dataset['train'], dataset['test']"
      ],
      "execution_count": 0,
      "outputs": []
    },
    {
      "cell_type": "code",
      "metadata": {
        "id": "vKuNC4hx5gKO",
        "colab_type": "code",
        "colab": {}
      },
      "source": [
        "class_names = ['T-shirt/top', 'Trouser', 'Pullover', 'Dress', 'Coat', \n",
        "               'Sandal',      'Shirt',   'Sneaker',  'Bag',   'Ankle boot']"
      ],
      "execution_count": 0,
      "outputs": []
    },
    {
      "cell_type": "code",
      "metadata": {
        "id": "SxzPvGoTRsm_",
        "colab_type": "code",
        "colab": {}
      },
      "source": [
        "for image , label in train_dataset.take(1):\n",
        "  break\n",
        "print(image.numpy().shape , label.numpy().shape)\n",
        "image = image.numpy()\n",
        "image= image.reshape((28,28))\n",
        "plt.figure()\n",
        "plt.imshow(image , cmap=plt.cm.binary)\n",
        "plt.colorbar()\n",
        "plt.grid(False)\n",
        "plt.show()"
      ],
      "execution_count": 0,
      "outputs": []
    },
    {
      "cell_type": "code",
      "metadata": {
        "id": "C19dP6KMiuI2",
        "colab_type": "code",
        "colab": {}
      },
      "source": [
        ""
      ],
      "execution_count": 0,
      "outputs": []
    },
    {
      "cell_type": "code",
      "metadata": {
        "id": "SPeEeq6kfVzp",
        "colab_type": "code",
        "colab": {}
      },
      "source": [
        "for images , labels in test_dataset.take(1):\n",
        "  break\n",
        "  \n",
        "images = images.numpy().reshape((28,28))\n",
        "plt.figure()\n",
        "plt.imshow(images , cmap= plt.cm.binary )\n",
        "plt.colorbar()\n",
        "plt.grid(False)\n",
        "plt.show()\n"
      ],
      "execution_count": 0,
      "outputs": []
    },
    {
      "cell_type": "code",
      "metadata": {
        "id": "PcFT0WSDXOVa",
        "colab_type": "code",
        "colab": {}
      },
      "source": [
        "arr = np.arange(90)\n",
        "arr.shape, arr.ndim\n",
        "arr= arr.reshape(9,10)\n",
        "arr.ndim , arr.shape\n",
        "arr = arr.reshape(3,5,6)\n",
        "arr , arr.ndim , arr.shape\n",
        "print (arr)\n",
        "arr = arr.reshape(1,3,5,6)\n",
        "arr , arr.ndim , arr.shape"
      ],
      "execution_count": 0,
      "outputs": []
    },
    {
      "cell_type": "code",
      "metadata": {
        "id": "GUJ5a5ltbsID",
        "colab_type": "code",
        "colab": {}
      },
      "source": [
        "a = np.arange(2*3*4*5)\n",
        "a , a.ndim , a.shape\n",
        "a = a.reshape(2,3,4,5)\n",
        "a , a.ndim , a.shape\n",
        "a[0,1,0,2]\n",
        "\n",
        "a.shape"
      ],
      "execution_count": 0,
      "outputs": []
    },
    {
      "cell_type": "code",
      "metadata": {
        "id": "SQ6deO-Y5lAu",
        "colab_type": "code",
        "colab": {}
      },
      "source": [
        "num_train_examples = metadata.splits['train'].num_examples\n",
        "num_test_examples = metadata.splits['test'].num_examples\n",
        "print(\"Number of training examples: {}\".format(num_train_examples))\n",
        "print(\"Number of test examples:     {}\".format(num_test_examples))"
      ],
      "execution_count": 0,
      "outputs": []
    },
    {
      "cell_type": "code",
      "metadata": {
        "id": "Oi9nqmAh5oVy",
        "colab_type": "code",
        "colab": {}
      },
      "source": [
        "def normalize(images, labels):\n",
        "  images = tf.cast(images, tf.float32)\n",
        "  images /= 255\n",
        "  return images, labels\n",
        "\n",
        "# The map function applies the normalize function to each element in the train\n",
        "# and test datasets\n",
        "train_dataset =  train_dataset.map(normalize)\n",
        "test_dataset  =  test_dataset.map(normalize)"
      ],
      "execution_count": 0,
      "outputs": []
    },
    {
      "cell_type": "code",
      "metadata": {
        "id": "lxTfZy8I5wjM",
        "colab_type": "code",
        "colab": {}
      },
      "source": [
        "for image,label in test_dataset.take(1):\n",
        "  print(image.shape)\n",
        "  im = image.numpy().reshape((28,28))\n",
        "  print(im.shape)\n",
        "  plt.figure()\n",
        "  plt.imshow(im, cmap=plt.cm.binary)\n",
        "  plt.colorbar()\n",
        "  plt.grid(False)\n",
        "  plt.show()\n",
        "  \n"
      ],
      "execution_count": 0,
      "outputs": []
    },
    {
      "cell_type": "code",
      "metadata": {
        "id": "5pj3-gLkjkHM",
        "colab_type": "code",
        "colab": {}
      },
      "source": [
        ""
      ],
      "execution_count": 0,
      "outputs": []
    },
    {
      "cell_type": "code",
      "metadata": {
        "id": "DXvfUiSE6PUR",
        "colab_type": "code",
        "colab": {}
      },
      "source": [
        "images, = test_dataset.take(1)\n",
        "\n",
        "image , label = images[0] , images[1]\n",
        "plt.figure()\n",
        "plt.imshow(image.numpy().reshape((28,28)) , cmap=plt.cm.binary)\n",
        "plt.colorbar()\n",
        "plt.grid(False)\n",
        "plt.show()\n",
        "print(class_names[label.numpy()])\n"
      ],
      "execution_count": 0,
      "outputs": []
    },
    {
      "cell_type": "code",
      "metadata": {
        "id": "avrWHSab7fxI",
        "colab_type": "code",
        "colab": {}
      },
      "source": [
        "mode = tf.keras.Sequential([\n",
        "    tf.keras.layers.Conv2D(32, (3,3), padding='same', activation=tf.nn.relu,\n",
        "                           input_shape=(28, 28, 1)),\n",
        "    tf.keras.layers.MaxPooling2D((2, 2), strides=2),\n",
        "    tf.keras.layers.Conv2D(64, (3,3), padding='same', activation=tf.nn.relu),\n",
        "    tf.keras.layers.MaxPooling2D((2, 2), strides=2),\n",
        "    tf.keras.layers.Flatten(),\n",
        "    tf.keras.layers.Dense(90, activation=tf.nn.relu),\n",
        "    #tf.keras.layers.Dense(50, activation=tf.nn.relu),\n",
        "    tf.keras.layers.Dense(10,  activation=tf.nn.softmax)\n",
        "])"
      ],
      "execution_count": 0,
      "outputs": []
    },
    {
      "cell_type": "code",
      "metadata": {
        "id": "Z0_rppc37o3T",
        "colab_type": "code",
        "colab": {}
      },
      "source": [
        "mode.compile(optimizer='adam', \n",
        "              loss='sparse_categorical_crossentropy',\n",
        "              metrics=['accuracy'])"
      ],
      "execution_count": 0,
      "outputs": []
    },
    {
      "cell_type": "code",
      "metadata": {
        "id": "b3B4eBOy7ts5",
        "colab_type": "code",
        "colab": {}
      },
      "source": [
        "BATCH_SIZE = 32\n",
        "train_dataset = train_dataset.repeat().shuffle(num_train_examples).batch(BATCH_SIZE)\n",
        "test_dataset = test_dataset.batch(BATCH_SIZE)"
      ],
      "execution_count": 0,
      "outputs": []
    },
    {
      "cell_type": "code",
      "metadata": {
        "id": "f_LmFr9b3Lgo",
        "colab_type": "code",
        "colab": {}
      },
      "source": [
        "for images ,labels in test_dataset.take(1):\n",
        "  break\n",
        "plt.figure(figsize=(10,10))  \n",
        "i=0\n",
        "for r in range(BATCH_SIZE):\n",
        "  #print(images.shape)\n",
        "  im = images[i]\n",
        "  lab = labels[i]\n",
        "  im = im.numpy()\n",
        "  plt.subplot(4,8,i+1)\n",
        "  plt.imshow(im.reshape((28,28)), cmap=plt.cm.binary)\n",
        "  plt.xticks([])\n",
        "  plt.yticks([])\n",
        "  plt.grid(False)\n",
        "  plt.xlabel(class_names[lab])\n",
        "  i+=1\n",
        "plt.show()\n",
        "#print(class_names[lab])\n",
        "  "
      ],
      "execution_count": 0,
      "outputs": []
    },
    {
      "cell_type": "code",
      "metadata": {
        "id": "fLC9Za4C7yWA",
        "colab_type": "code",
        "colab": {}
      },
      "source": [
        "mode.fit(train_dataset, epochs=3, steps_per_epoch=math.ceil(num_train_examples/BATCH_SIZE))"
      ],
      "execution_count": 0,
      "outputs": []
    },
    {
      "cell_type": "code",
      "metadata": {
        "id": "6ZgjGny9-TDX",
        "colab_type": "code",
        "colab": {}
      },
      "source": [
        "test_loss, test_accuracy = mode.evaluate(test_dataset, steps=math.ceil(num_test_examples/32))\n",
        "print('Accuracy on test dataset:', test_accuracy)"
      ],
      "execution_count": 0,
      "outputs": []
    },
    {
      "cell_type": "code",
      "metadata": {
        "id": "59R9O9ywkhf0",
        "colab_type": "code",
        "colab": {}
      },
      "source": [
        "for im,lab in test_dataset.take(1):\n",
        "  testim = im.numpy()\n",
        "  testlab = lab.numpy()\n",
        "  listpred=mode.predict(testim)"
      ],
      "execution_count": 0,
      "outputs": []
    },
    {
      "cell_type": "code",
      "metadata": {
        "id": "nswLLJj4l0Ff",
        "colab_type": "code",
        "colab": {}
      },
      "source": [
        "listpred.shape\n"
      ],
      "execution_count": 0,
      "outputs": []
    },
    {
      "cell_type": "code",
      "metadata": {
        "id": "hlJQErKll33r",
        "colab_type": "code",
        "colab": {}
      },
      "source": [
        "predresult= (np.argmax(listpred ,axis=1))\n",
        "predresult , predresult.shape"
      ],
      "execution_count": 0,
      "outputs": []
    },
    {
      "cell_type": "code",
      "metadata": {
        "id": "W22-EUkRmql9",
        "colab_type": "code",
        "colab": {}
      },
      "source": [
        "result= (testlab == predresult)\n",
        "print(result)\n",
        "print('our model failed at  {}'.format(len(result[result==False])))"
      ],
      "execution_count": 0,
      "outputs": []
    },
    {
      "cell_type": "code",
      "metadata": {
        "id": "RyY7krT-npwM",
        "colab_type": "code",
        "colab": {}
      },
      "source": [
        "#prediction one Image \n",
        "for img , lab in test_dataset.take(1):\n",
        "  break\n",
        "ima = img[30]\n",
        "print(ima.shape)\n",
        "# Add the image to a batch where it's the only member.\n",
        "ima = np.array([ima])\n",
        "print(ima.shape)\n",
        "p= mode.predict(ima)\n",
        "\n"
      ],
      "execution_count": 0,
      "outputs": []
    },
    {
      "cell_type": "code",
      "metadata": {
        "id": "-CC9v6-ioh2i",
        "colab_type": "code",
        "colab": {}
      },
      "source": [
        "np.argmax(p) , lab[30].numpy()"
      ],
      "execution_count": 0,
      "outputs": []
    },
    {
      "cell_type": "code",
      "metadata": {
        "id": "8HdEfZRqoKnb",
        "colab_type": "code",
        "colab": {}
      },
      "source": [
        "def p1(x):\n",
        "  return x**4 -  4*x**2 + 3*x\n",
        "def p2(x):\n",
        "  return np.sin(10*x) * 10\n",
        "\n",
        "x= np.linspace(-3,3,200)\n",
        "plt.plot(x, p1(x))\n",
        "plt.plot(x, p2(x))"
      ],
      "execution_count": 0,
      "outputs": []
    },
    {
      "cell_type": "markdown",
      "metadata": {
        "colab_type": "text",
        "id": "Ee638AlnCaWz"
      },
      "source": [
        "Display the first 25 images from the *training set* and display the class name below each image. Verify that the data is in the correct format and we're ready to build and train the network."
      ]
    },
    {
      "cell_type": "code",
      "metadata": {
        "id": "fH_FqVD5-W7x",
        "colab_type": "code",
        "colab": {}
      },
      "source": [
        "plt.figure(figsize=(10,10))\n",
        "i = 0\n",
        "for (images, labels) in test_dataset.take(1):\n",
        "  break\n",
        "images = images.numpy()\n",
        "for r in range(BATCH_SIZE):\n",
        "  \n",
        "  image = images[i]\n",
        "  image = image.reshape((28,28))\n",
        "  plt.subplot(4,8,i+1)\n",
        "  plt.xticks([])\n",
        "  plt.yticks([])\n",
        "  plt.grid(False)\n",
        "  plt.imshow(image, cmap=plt.cm.binary)\n",
        "  plt.xlabel(class_names[labels[i].numpy()])\n",
        "  i += 1\n",
        "plt.show()"
      ],
      "execution_count": 0,
      "outputs": []
    },
    {
      "cell_type": "code",
      "metadata": {
        "id": "GUGpy3Bi97OB",
        "colab_type": "code",
        "colab": {}
      },
      "source": [
        "def plot_image(i, predictions_array, true_labels, images):\n",
        "  predictions_array, true_label, img = predictions_array[i], true_labels[i], images[i]\n",
        "  plt.grid(False)\n",
        "  plt.xticks([])\n",
        "  plt.yticks([])\n",
        "  \n",
        "  plt.imshow(img[...,0], cmap=plt.cm.binary)\n",
        "\n",
        "  predicted_label = np.argmax(predictions_array)\n",
        "  if predicted_label == true_label:\n",
        "    color = 'blue'\n",
        "  else:\n",
        "    color = 'red'\n",
        "  \n",
        "  plt.xlabel(\"{} {:2.0f}% ({})\".format(class_names[predicted_label],\n",
        "                                100*np.max(predictions_array),\n",
        "                                class_names[true_label]),\n",
        "                                color=color)\n",
        "\n",
        "def plot_value_array(i, predictions_array, true_label):\n",
        "  predictions_array, true_label = predictions_array[i], true_label[i]\n",
        "  plt.grid(False)\n",
        "  plt.xticks([])\n",
        "  plt.yticks([])\n",
        "  thisplot = plt.bar(range(10), predictions_array, color=\"#777777\")\n",
        "  plt.ylim([0, 1]) \n",
        "  predicted_label = np.argmax(predictions_array)\n",
        " \n",
        "  thisplot[predicted_label].set_color('red')\n",
        "  thisplot[true_label].set_color('blue')"
      ],
      "execution_count": 0,
      "outputs": []
    },
    {
      "cell_type": "code",
      "metadata": {
        "id": "W5lVNOxTAihs",
        "colab_type": "code",
        "colab": {}
      },
      "source": [
        "for test_images , test_labels in test_dataset.take(1):\n",
        "  test_images = test_images.numpy()\n",
        "  test_label = test_labels.numpy()\n",
        "  predictions = mode.predict(test_images)\n",
        " \n",
        "  \n",
        "i = 0\n",
        "plt.figure(figsize=(6,3))\n",
        "plt.subplot(1,2,1)\n",
        "plot_image(i, predictions, test_labels, test_images)\n",
        "plt.subplot(1,2,2)\n",
        "plot_value_array(i, predictions,  test_labels)"
      ],
      "execution_count": 0,
      "outputs": []
    },
    {
      "cell_type": "code",
      "metadata": {
        "id": "vNoGCNBEErnj",
        "colab_type": "code",
        "colab": {}
      },
      "source": [
        "# Plot the first X test images, their predicted label, and the true label\n",
        "# Color correct predictions in blue, incorrect predictions in red\n",
        "num_rows = 4\n",
        "num_cols = 8\n",
        "num_images = num_rows*num_cols\n",
        "plt.figure(figsize=(2*2*num_cols, 2*num_rows))\n",
        "for i in range(BATCH_SIZE):\n",
        "  plt.subplot(num_rows, 2*num_cols, 2*i+1)\n",
        "  plot_image(i, predictions, test_labels, test_images)\n",
        "  plt.subplot(num_rows, 2*num_cols, 2*i+2)\n",
        "  plot_value_array(i, predictions, test_labels)\n"
      ],
      "execution_count": 0,
      "outputs": []
    },
    {
      "cell_type": "code",
      "metadata": {
        "id": "ORD_bxoCHEFi",
        "colab_type": "code",
        "colab": {}
      },
      "source": [
        "img = test_images[10]\n",
        "lab = test_labels[10].numpy()\n",
        "print(img.shape)\n",
        "plt.figure()\n",
        "plt.xticks([])\n",
        "plt.yticks([])\n",
        "plt.imshow(img.reshape((28,28)) ,cmap=plt.cm.binary)\n",
        "plt.show()\n",
        "img = np.array([img])\n",
        "img.shape\n",
        "\n",
        "pred = mode.predict(img)\n",
        "print(np.argmax(pred) == lab)\n",
        "plot_value_array(0, pred, test_labels)\n",
        "_ =plt.xticks(range(10), class_names, rotation=45) # e =plt.xticks(range(10), class_names, rotation=45) "
      ],
      "execution_count": 0,
      "outputs": []
    },
    {
      "cell_type": "code",
      "metadata": {
        "id": "biKQ3osHJm5I",
        "colab_type": "code",
        "colab": {}
      },
      "source": [
        "np.argmax(pred)"
      ],
      "execution_count": 0,
      "outputs": []
    }
  ]
}