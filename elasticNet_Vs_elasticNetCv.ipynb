{
  "nbformat": 4,
  "nbformat_minor": 0,
  "metadata": {
    "colab": {
      "name": " elasticNet Vs elasticNetCv.ipynb",
      "provenance": [],
      "authorship_tag": "ABX9TyOeE0SLzN89UqSd3Fzl83xi",
      "include_colab_link": true
    },
    "kernelspec": {
      "name": "python3",
      "display_name": "Python 3"
    }
  },
  "cells": [
    {
      "cell_type": "markdown",
      "metadata": {
        "id": "view-in-github",
        "colab_type": "text"
      },
      "source": [
        "<a href=\"https://colab.research.google.com/github/MohammedQaraad/DeepleerningTF/blob/master/elasticNet_Vs_elasticNetCv.ipynb\" target=\"_parent\"><img src=\"https://colab.research.google.com/assets/colab-badge.svg\" alt=\"Open In Colab\"/></a>"
      ]
    },
    {
      "cell_type": "code",
      "metadata": {
        "id": "GZcmJ2T1OGzS",
        "colab_type": "code",
        "outputId": "8f35e671-afef-40fa-8a93-ec02ec9ba342",
        "colab": {
          "base_uri": "https://localhost:8080/",
          "height": 71
        }
      },
      "source": [
        "import tarfile\n",
        "import pandas as pd\n",
        "from sklearn.externals import joblib\n",
        "import numpy as np\n",
        "import matplotlib.pyplot as plt\n",
        "import sys\n",
        "import time\n",
        "from sklearn.model_selection import  train_test_split, LeaveOneOut\n",
        "from sklearn.svm import LinearSVC\n",
        "from sklearn.preprocessing import MinMaxScaler\n",
        "from sklearn.linear_model import ElasticNet, Lasso , ElasticNetCV\n",
        "from sklearn.metrics import r2_score\n",
        "from sklearn.model_selection import train_test_split\n",
        "from sklearn import metrics\n",
        "from math import sqrt\n",
        "import itertools\n"
      ],
      "execution_count": 1,
      "outputs": [
        {
          "output_type": "stream",
          "text": [
            "/usr/local/lib/python3.6/dist-packages/sklearn/externals/joblib/__init__.py:15: FutureWarning: sklearn.externals.joblib is deprecated in 0.21 and will be removed in 0.23. Please import this functionality directly from joblib, which can be installed with: pip install joblib. If this warning is raised when loading pickled models, you may need to re-serialize those models with scikit-learn 0.21+.\n",
            "  warnings.warn(msg, category=FutureWarning)\n"
          ],
          "name": "stderr"
        }
      ]
    },
    {
      "cell_type": "code",
      "metadata": {
        "id": "pHC-pjy8OQiw",
        "colab_type": "code",
        "outputId": "38a31f5d-f91d-4fe4-daa9-2d21dbbe3ac0",
        "colab": {
          "base_uri": "https://localhost:8080/",
          "height": 122
        }
      },
      "source": [
        "from google.colab import drive\n",
        "drive.mount('/content/drive')"
      ],
      "execution_count": 2,
      "outputs": [
        {
          "output_type": "stream",
          "text": [
            "Go to this URL in a browser: https://accounts.google.com/o/oauth2/auth?client_id=947318989803-6bn6qk8qdgf4n4g3pfee6491hc0brc4i.apps.googleusercontent.com&redirect_uri=urn%3aietf%3awg%3aoauth%3a2.0%3aoob&response_type=code&scope=email%20https%3a%2f%2fwww.googleapis.com%2fauth%2fdocs.test%20https%3a%2f%2fwww.googleapis.com%2fauth%2fdrive%20https%3a%2f%2fwww.googleapis.com%2fauth%2fdrive.photos.readonly%20https%3a%2f%2fwww.googleapis.com%2fauth%2fpeopleapi.readonly\n",
            "\n",
            "Enter your authorization code:\n",
            "··········\n",
            "Mounted at /content/drive\n"
          ],
          "name": "stdout"
        }
      ]
    },
    {
      "cell_type": "code",
      "metadata": {
        "id": "i8-5VYXhPEK6",
        "colab_type": "code",
        "colab": {}
      },
      "source": [
        "file='/content/drive/My Drive/Colab Notebooks/data/singh.tar.gz'\n",
        "datasetname='singh'"
      ],
      "execution_count": 0,
      "outputs": []
    },
    {
      "cell_type": "code",
      "metadata": {
        "id": "nmK_E2L7POb_",
        "colab_type": "code",
        "colab": {}
      },
      "source": [
        "min_max_scaler = MinMaxScaler()\n",
        "with tarfile.open(file, \"r:*\") as tar:\n",
        "    csv_path = tar.getnames()\n",
        "    labels = pd.read_csv(tar.extractfile(csv_path[1]), header=None)\n",
        "    feature = pd.read_csv(tar.extractfile(csv_path[0]), header=None)\n",
        "headers = list(feature.columns)\n",
        "feature.fillna(0, inplace = True)\n",
        "features = np.asarray(feature.values)\n",
        "features = min_max_scaler.fit_transform(feature)\n",
        "labels = np.transpose(np.asarray(labels.values.ravel() - 1, dtype=int))"
      ],
      "execution_count": 0,
      "outputs": []
    },
    {
      "cell_type": "code",
      "metadata": {
        "id": "JkW_VosPPlZi",
        "colab_type": "code",
        "outputId": "52589239-a2cd-4570-ca86-8edf68f28804",
        "colab": {
          "base_uri": "https://localhost:8080/",
          "height": 34
        }
      },
      "source": [
        "features.shape, labels.shape"
      ],
      "execution_count": 110,
      "outputs": [
        {
          "output_type": "execute_result",
          "data": {
            "text/plain": [
              "((102, 12600), (102,))"
            ]
          },
          "metadata": {
            "tags": []
          },
          "execution_count": 110
        }
      ]
    },
    {
      "cell_type": "markdown",
      "metadata": {
        "id": "1ZdYHEFyb7YG",
        "colab_type": "text"
      },
      "source": [
        "Multi Layer Perceptron \n",
        "# MLP Classification "
      ]
    },
    {
      "cell_type": "code",
      "metadata": {
        "id": "Wz2O7gZIex7s",
        "colab_type": "code",
        "colab": {
          "base_uri": "https://localhost:8080/",
          "height": 34
        },
        "outputId": "e5cd8f07-910b-418c-c355-21915c589922"
      },
      "source": [
        "%tensorflow_version 1.x\n",
        "import tensorflow as tf\n",
        "print(tf.__version__)"
      ],
      "execution_count": 43,
      "outputs": [
        {
          "output_type": "stream",
          "text": [
            "1.15.0\n"
          ],
          "name": "stdout"
        }
      ]
    },
    {
      "cell_type": "code",
      "metadata": {
        "id": "QEgtEMhzl8S-",
        "colab_type": "code",
        "colab": {
          "base_uri": "https://localhost:8080/",
          "height": 51
        },
        "outputId": "6b00f8f1-dc9e-4127-b11d-48d2372eb99a"
      },
      "source": [
        "#gains = np.asarray(np.loadtxt('/content/drive/My Drive/Colab Notebooks/NewElasticNet_Cv_result/singh_lasso.txt'))\n",
        "#indexes = np.where(gains != 0)[0]\n",
        "\n",
        "#gains = np.asarray(np.loadtxt('/content/drive/My Drive/Colab Notebooks/NewElasticNet_Cv_result/singh_elasticNet.txt'))\n",
        "#indexes = np.where(gains != 0)[0]\n",
        "\n",
        "gains = np.asarray(np.loadtxt('/content/drive/My Drive/Colab Notebooks/NewElasticNet_Cv_result/singh_elasticNetCV.txt'))\n",
        "indexes = np.where(gains != 0)[0]\n",
        "print(gains.shape)\n",
        "print(indexes.shape)"
      ],
      "execution_count": 128,
      "outputs": [
        {
          "output_type": "stream",
          "text": [
            "(12600,)\n",
            "(169,)\n"
          ],
          "name": "stdout"
        }
      ]
    },
    {
      "cell_type": "code",
      "metadata": {
        "id": "0tKwGuC9WqTA",
        "colab_type": "code",
        "colab": {}
      },
      "source": [
        "\n",
        "\n",
        "scores = []\n",
        "\n",
        "loo = LeaveOneOut()\n",
        "\n",
        "startTime = time.time()\n",
        "\n",
        "for train_index, test_index in loo.split(features):\n",
        "\tx_train, x_test = features[train_index], features[test_index]\n",
        "\ty_train, y_test = labels[train_index], labels[test_index]\n",
        "\t\n",
        "\tX_train = x_train[:, indexes]\n",
        "\tX_test = x_test[:, indexes]\n",
        "\tY_train = y_train[:]\n",
        "\tY_test = y_test[:]\n",
        "\t\n",
        "\tbatch_size = 1\n",
        "\tnum_classes = np.max(labels) + 1\n",
        "\tepochs = 50\n",
        "\t\n",
        "\tX_train = X_train.astype('float32')\n",
        "\tX_test = X_test.astype('float32')\n",
        "\tY_train = Y_train[:]\n",
        "\tY_test = Y_test[:]\n",
        "\n",
        "\t\n",
        "\t# convert class vectors to binary class matrices\n",
        "\tY_train = tf.keras.utils.to_categorical(Y_train, num_classes)\n",
        "\tY_test = tf.keras.utils.to_categorical(Y_test, num_classes)\n",
        "#print(X_train.shape[0], 'train samples, ', Y_train.shape)\n",
        "#print(X_test.shape[0], 'test samples, ', Y_test.shape)"
      ],
      "execution_count": 0,
      "outputs": []
    },
    {
      "cell_type": "code",
      "metadata": {
        "id": "n5PQZdiCfKgd",
        "colab_type": "code",
        "colab": {}
      },
      "source": [
        "sgd = tf.keras.optimizers.SGD(lr=0.005, decay=1e-6, momentum=0.9, nesterov=True)\n",
        "\n",
        "model = tf.keras.Sequential([\n",
        "    tf.keras.layers.Dense(200,input_dim=X_train.shape[1], activation=tf.nn.relu, kernel_initializer='lecun_uniform'),\n",
        "    tf.keras.layers.Dense(100, activation=tf.nn.relu,kernel_initializer='lecun_uniform'),\n",
        "    tf.keras.layers.Dense(Y_train.shape[1], kernel_initializer='lecun_uniform', activation=tf.nn.softmax)\n",
        "])\n",
        "\n",
        "model.compile(optimizer='Adamax', \n",
        "              loss='categorical_crossentropy',\n",
        "              metrics=['accuracy'])\n"
      ],
      "execution_count": 0,
      "outputs": []
    },
    {
      "cell_type": "code",
      "metadata": {
        "id": "VS8MJYMpfRKH",
        "colab_type": "code",
        "colab": {
          "base_uri": "https://localhost:8080/",
          "height": 51
        },
        "outputId": "0f6924f0-de6c-493a-987d-08b59d98076e"
      },
      "source": [
        "history = model.fit(X_train, Y_train,\n",
        "                        batch_size=batch_size,\n",
        "                        epochs=epochs,\n",
        "                        verbose=0,\n",
        "                        validation_data=(X_test, Y_test))\n",
        "\n",
        "score = model.evaluate(X_test, Y_test, verbose=0)\n",
        "\t\n",
        "scores.append(score[1])\n",
        "\n",
        "endTime = time.time()\n",
        "\n",
        "\n",
        "with open('/content/drive/My Drive/Colab Notebooks/New Mlp Result/' + datasetname + '_mlp_' + 'elasticNetCV' + '.txt', 'w') as file:\n",
        "\tfile.write('Score: ' + str(np.average(scores)) + '\\n')\n",
        "\tfile.write('Time: ' + str(endTime - startTime))\n",
        "\tfile.close()\n",
        "\n",
        "print('Score: ' + str(np.average(scores)))\n",
        "print('Time: ' + str(endTime - startTime))"
      ],
      "execution_count": 131,
      "outputs": [
        {
          "output_type": "stream",
          "text": [
            "Score: 1.0\n",
            "Time: 22.73926067352295\n"
          ],
          "name": "stdout"
        }
      ]
    },
    {
      "cell_type": "markdown",
      "metadata": {
        "id": "7fPq_QPBdNW7",
        "colab_type": "text"
      },
      "source": [
        "# Gene  Selection  "
      ]
    },
    {
      "cell_type": "code",
      "metadata": {
        "id": "QXwNPsTYSEmK",
        "colab_type": "code",
        "outputId": "5ce13bbe-c961-4f86-ad1a-92473d07c190",
        "colab": {
          "base_uri": "https://localhost:8080/",
          "height": 85
        }
      },
      "source": [
        "#Lasso and Elasticnet and ElasticNetCV coefficient \n",
        "alpha = 0.001\n",
        "#Lasso\n",
        "lasso = Lasso(alpha=alpha)\n",
        "lasso.fit(features,labels)\n",
        "np.savetxt('/content/drive/My Drive/Colab Notebooks/NewElasticNet_Cv_result/' +datasetname+ '_lasso.txt', lasso.coef_)\n",
        "#elasticNet\n",
        "elasticNet = ElasticNet(alpha=alpha, l1_ratio=0.7)\n",
        "elasticNet.fit(features,labels)\n",
        "np.savetxt('/content/drive/My Drive/Colab Notebooks/NewElasticNet_Cv_result/' +datasetname+ '_elasticNet.txt', elasticNet.coef_)\n",
        "\n",
        "#ElasticNetCV\n",
        "elasticNetCv = ElasticNetCV(cv=5, random_state=0)\n",
        "elasticNetCv.fit(features,labels)\n",
        "np.savetxt('/content/drive/My Drive/Colab Notebooks/NewElasticNet_Cv_result/' +datasetname+ '_elasticNetCV.txt', elasticNetCv.coef_)\n",
        "\n",
        "Lasso_coef= lasso.coef_[lasso.coef_ != 0]\n",
        "elasticNet_coef=elasticNet.coef_[elasticNet.coef_ !=0]\n",
        "elasticNetCV_coef=elasticNetCv.coef_[elasticNetCv.coef_ !=0]\n",
        "\n",
        "print(datasetname + \" Coefficients \\n Lasso Coef = {}\\n ElasticNet coef= {}\\n ElasticNetCV coef = {}\",Lasso_coef.shape, elasticNet_coef.shape, elasticNetCV_coef.shape )\n",
        "\n"
      ],
      "execution_count": 39,
      "outputs": [
        {
          "output_type": "stream",
          "text": [
            "chin Coefficients \n",
            " Lasso Coef = {}\n",
            " ElasticNet coef= {}\n",
            " ElasticNetCV coef = {} (112,) (143,) (28,)\n"
          ],
          "name": "stdout"
        }
      ]
    },
    {
      "cell_type": "code",
      "metadata": {
        "id": "xZzGpxOPb4TX",
        "colab_type": "code",
        "colab": {}
      },
      "source": [
        ""
      ],
      "execution_count": 0,
      "outputs": []
    },
    {
      "cell_type": "markdown",
      "metadata": {
        "id": "i3nauSRbdfKI",
        "colab_type": "text"
      },
      "source": [
        "# Lasso Vs ElasticNet vs ElasticNetCV Test"
      ]
    },
    {
      "cell_type": "code",
      "metadata": {
        "id": "_ydIT2MqQnLa",
        "colab_type": "code",
        "colab": {
          "base_uri": "https://localhost:8080/",
          "height": 187
        },
        "outputId": "ce8e71cb-eb1b-43ed-c0c2-14d97403abc7"
      },
      "source": [
        "X_train,x_test,y_train,y_test= train_test_split(features,labels,test_size=0.3, \n",
        "                                                random_state=1,stratify=labels)\n",
        "print(np.array(np.unique(y_train, return_counts=True)).T)\n",
        "print(np.array(np.unique(y_test, return_counts=True)).T)\n",
        "\n",
        "print(\"y_train class distribution \", pd.value_counts(y_train))\n",
        "print(\"y_test class distribution \", pd.value_counts(y_test))\n",
        "\n",
        "#Lasso"
      ],
      "execution_count": 8,
      "outputs": [
        {
          "output_type": "stream",
          "text": [
            "[[ 0 30]\n",
            " [ 1 52]]\n",
            "[[ 0 13]\n",
            " [ 1 23]]\n",
            "y_train class distribution  1    52\n",
            "0    30\n",
            "dtype: int64\n",
            "y_test class distribution  1    23\n",
            "0    13\n",
            "dtype: int64\n"
          ],
          "name": "stdout"
        }
      ]
    },
    {
      "cell_type": "code",
      "metadata": {
        "id": "a8ko094-Q9Ak",
        "colab_type": "code",
        "colab": {
          "base_uri": "https://localhost:8080/",
          "height": 85
        },
        "outputId": "28c51975-ad0d-4d7c-ac18-64341985c15a"
      },
      "source": [
        "alpha = 0.001\n",
        "#Lasso\n",
        "lasso = Lasso(alpha=alpha)\n",
        "\n",
        "lasso.fit(X_train,y_train)\n",
        "y_pred_lasso= lasso.predict(x_test)\n",
        "r2_score_lasso = r2_score(y_test, y_pred_lasso)\n",
        "print(lasso)\n",
        "print(\"r^2 on test data : %f\" % r2_score_lasso)\n"
      ],
      "execution_count": 9,
      "outputs": [
        {
          "output_type": "stream",
          "text": [
            "Lasso(alpha=0.001, copy_X=True, fit_intercept=True, max_iter=1000,\n",
            "      normalize=False, positive=False, precompute=False, random_state=None,\n",
            "      selection='cyclic', tol=0.0001, warm_start=False)\n",
            "r^2 on test data : 0.492970\n"
          ],
          "name": "stdout"
        }
      ]
    },
    {
      "cell_type": "code",
      "metadata": {
        "id": "dqs7T4oQRKZJ",
        "colab_type": "code",
        "colab": {
          "base_uri": "https://localhost:8080/",
          "height": 85
        },
        "outputId": "aa307b16-9d44-4ff0-9958-4efc0be8bcf2"
      },
      "source": [
        "#elasticNet\n",
        "elasticNet = ElasticNet(alpha=alpha, l1_ratio=0.7)\n",
        "y_pred_enet = elasticNet.fit(X_train, y_train).predict(x_test)\n",
        "r2_score_enet = r2_score(y_test, y_pred_enet)\n",
        "print(elasticNet)\n",
        "print(\"r^2 on test data : %f\" % r2_score_enet)"
      ],
      "execution_count": 10,
      "outputs": [
        {
          "output_type": "stream",
          "text": [
            "ElasticNet(alpha=0.001, copy_X=True, fit_intercept=True, l1_ratio=0.7,\n",
            "           max_iter=1000, normalize=False, positive=False, precompute=False,\n",
            "           random_state=None, selection='cyclic', tol=0.0001, warm_start=False)\n",
            "r^2 on test data : 0.456384\n"
          ],
          "name": "stdout"
        }
      ]
    },
    {
      "cell_type": "code",
      "metadata": {
        "id": "hHP1P0wTRcGp",
        "colab_type": "code",
        "colab": {
          "base_uri": "https://localhost:8080/",
          "height": 102
        },
        "outputId": "6dfff311-da24-4213-a999-bb408e7db37b"
      },
      "source": [
        "#ElasticNetCV\n",
        "elasticNetCv = ElasticNetCV(cv=5, random_state=0)\n",
        "y_pred_enetCv = elasticNetCv.fit(X_train, y_train).predict(x_test)\n",
        "r2_score_enetCv = r2_score(y_test, y_pred_enetCv)\n",
        "print(elasticNetCv)\n",
        "print(\"r^2 on test data : %f\" % r2_score_enetCv)"
      ],
      "execution_count": 12,
      "outputs": [
        {
          "output_type": "stream",
          "text": [
            "ElasticNetCV(alphas=None, copy_X=True, cv=5, eps=0.001, fit_intercept=True,\n",
            "             l1_ratio=0.5, max_iter=1000, n_alphas=100, n_jobs=None,\n",
            "             normalize=False, positive=False, precompute='auto', random_state=0,\n",
            "             selection='cyclic', tol=0.0001, verbose=0)\n",
            "r^2 on test data : 0.566343\n"
          ],
          "name": "stdout"
        }
      ]
    },
    {
      "cell_type": "code",
      "metadata": {
        "id": "vtl0ueofPvu-",
        "colab_type": "code",
        "colab": {}
      },
      "source": [
        "alpha = 0.001\n",
        "#lasso = Lasso(alpha=alpha)\n",
        "# ElasticNet\n",
        "elasticNet = ElasticNet(alpha=alpha, l1_ratio=0.7)\n",
        "#ElasticNetCV\n",
        "elasticnetCv = ElasticNetCV(cv=5, random_state=0, l1_ratio=0.7)"
      ],
      "execution_count": 0,
      "outputs": []
    },
    {
      "cell_type": "markdown",
      "metadata": {
        "id": "_6ris2bsp9Po",
        "colab_type": "text"
      },
      "source": [
        "## Ploting Coefficients "
      ]
    },
    {
      "cell_type": "code",
      "metadata": {
        "id": "lwLcb6RzqGoP",
        "colab_type": "code",
        "colab": {
          "base_uri": "https://localhost:8080/",
          "height": 355
        },
        "outputId": "4020f321-281e-4ed9-9434-ef107138db2e"
      },
      "source": [
        "file='/content/drive/My Drive/Colab Notebooks/data/singh.tar.gz'\n",
        "datasetname='singh'\n",
        "\n",
        "min_max_scaler = MinMaxScaler()\n",
        "with tarfile.open(file, \"r:*\") as tar:\n",
        "    csv_path = tar.getnames()\n",
        "    labels = pd.read_csv(tar.extractfile(csv_path[1]), header=None)\n",
        "    feature = pd.read_csv(tar.extractfile(csv_path[0]), header=None)\n",
        "headers = list(feature.columns)\n",
        "feature.fillna(0, inplace = True)\n",
        "features = np.asarray(feature.values)\n",
        "features = min_max_scaler.fit_transform(feature)\n",
        "labels = np.transpose(np.asarray(labels.values.ravel() - 1, dtype=int))\n",
        "\n",
        "\n",
        "#Lasso and Elasticnet and ElasticNetCV coefficient \n",
        "alpha = 0.001\n",
        "#Lasso\n",
        "lasso = Lasso(alpha=alpha)\n",
        "lasso.fit(features,labels)\n",
        "#elasticNet\n",
        "elasticNet = ElasticNet(alpha=alpha, l1_ratio=0.7)\n",
        "elasticNet.fit(features,labels)\n",
        "\n",
        "#ElasticNetCV\n",
        "elasticNetCv = ElasticNetCV(cv=5, random_state=0)\n",
        "elasticNetCv.fit(features,labels)\n",
        "\n",
        "\n",
        "\n",
        "m, s, _ = plt.stem(np.where(elasticNet.coef_)[0], elasticNet.coef_[elasticNet.coef_ != 0],\n",
        "                   markerfmt='x', label='Elastic net coefficients',\n",
        "                   use_line_collection=True)\n",
        "plt.setp([m, s], color=\"#2ca02c\")\n",
        "m, s, _ = plt.stem(np.where(lasso.coef_)[0], lasso.coef_[lasso.coef_ != 0],\n",
        "                   markerfmt='x', label='Lasso coefficients',\n",
        "                   use_line_collection=True)\n",
        "plt.setp([m, s], color='#ff7f0e')\n",
        "plt.stem(np.where(elasticNetCv.coef_)[0], elasticNetCv.coef_[elasticNetCv.coef_ != 0], label='ElasticNetCv coefficients',\n",
        "         markerfmt='bx', use_line_collection=True)\n",
        "\n",
        "plt.legend(loc='best')\n",
        "plt.title(datasetname + \"\\nLasso $R^2$: %.3f, Elastic Net $R^2$: %.3f ,, Elastic NetCv $R^2$: %.3f\"\n",
        "          % (r2_score_lasso, r2_score_enet, r2_score_enetCv))\n",
        "plt.show()\n"
      ],
      "execution_count": 135,
      "outputs": [
        {
          "output_type": "stream",
          "text": [
            "/usr/local/lib/python3.6/dist-packages/sklearn/linear_model/_coordinate_descent.py:476: ConvergenceWarning: Objective did not converge. You might want to increase the number of iterations. Duality gap: 0.02030608047256115, tolerance: 0.0025490196078431374\n",
            "  positive)\n"
          ],
          "name": "stderr"
        },
        {
          "output_type": "display_data",
          "data": {
            "image/png": "[encoded data removed]",
            "text/plain": [
              "<Figure size 432x288 with 1 Axes>"
            ]
          },
          "metadata": {
            "tags": []
          }
        }
      ]
    }
  ]
}