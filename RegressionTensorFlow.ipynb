{
  "nbformat": 4,
  "nbformat_minor": 0,
  "metadata": {
    "colab": {
      "name": "RegressionTensorFlow.ipynb",
      "version": "0.3.2",
      "provenance": [],
      "collapsed_sections": [],
      "include_colab_link": true
    },
    "kernelspec": {
      "name": "python3",
      "display_name": "Python 3"
    }
  },
  "cells": [
    {
      "cell_type": "markdown",
      "metadata": {
        "id": "view-in-github",
        "colab_type": "text"
      },
      "source": [
        "<a href=\"https://colab.research.google.com/github/MohammedQaraad/DeepleerningTF/blob/master/RegressionTensorFlow.ipynb\" target=\"_parent\"><img src=\"https://colab.research.google.com/assets/colab-badge.svg\" alt=\"Open In Colab\"/></a>"
      ]
    },
    {
      "cell_type": "code",
      "metadata": {
        "id": "XnTJnnsL8ebQ",
        "colab_type": "code",
        "colab": {}
      },
      "source": [
        "import tensorflow as tf\n",
        "import numpy as np\n",
        "import pandas as pd\n",
        "import matplotlib.pyplot as plt"
      ],
      "execution_count": 0,
      "outputs": []
    },
    {
      "cell_type": "code",
      "metadata": {
        "id": "evpzyQZI9G8o",
        "colab_type": "code",
        "colab": {
          "base_uri": "https://localhost:8080/",
          "height": 34
        },
        "outputId": "5179e8d8-c48e-4a6a-9e20-7325c95218c1"
      },
      "source": [
        "x_data= np.linspace(0.0,10.0,1000000)\n",
        "x_data.shape"
      ],
      "execution_count": 45,
      "outputs": [
        {
          "output_type": "execute_result",
          "data": {
            "text/plain": [
              "(1000000,)"
            ]
          },
          "metadata": {
            "tags": []
          },
          "execution_count": 45
        }
      ]
    },
    {
      "cell_type": "code",
      "metadata": {
        "id": "XdZQbi6H9aKy",
        "colab_type": "code",
        "outputId": "e2c31ad5-749f-46fe-c62d-62728a15029a",
        "colab": {
          "base_uri": "https://localhost:8080/",
          "height": 34
        }
      },
      "source": [
        "noise= np.random.random(len(x_data))\n",
        "noise.shape\n",
        "noise[:5]"
      ],
      "execution_count": 46,
      "outputs": [
        {
          "output_type": "execute_result",
          "data": {
            "text/plain": [
              "array([0.86178057, 0.60701867, 0.72596316, 0.88196688, 0.14997865])"
            ]
          },
          "metadata": {
            "tags": []
          },
          "execution_count": 46
        }
      ]
    },
    {
      "cell_type": "code",
      "metadata": {
        "id": "85giz2Qv9s21",
        "colab_type": "code",
        "colab": {
          "base_uri": "https://localhost:8080/",
          "height": 52
        },
        "outputId": "3daaba93-166f-43e2-ddab-03c143159daa"
      },
      "source": [
        "#assign random value to M and b and calculate\n",
        "#y_true = m *x + b + noise\n",
        "#we added noise to our dataset due our x_data is \n",
        "#very coorelated \n",
        "b=5\n",
        "m=0.5\n",
        "y_true= (m * x_data) + b + noise\n",
        "print(y_true.shape)\n",
        "y_true[:5]"
      ],
      "execution_count": 47,
      "outputs": [
        {
          "output_type": "stream",
          "text": [
            "(1000000,)\n"
          ],
          "name": "stdout"
        },
        {
          "output_type": "execute_result",
          "data": {
            "text/plain": [
              "array([5.86178057, 5.60702367, 5.72597316, 5.88198188, 5.14999865])"
            ]
          },
          "metadata": {
            "tags": []
          },
          "execution_count": 47
        }
      ]
    },
    {
      "cell_type": "code",
      "metadata": {
        "id": "IiW5KOlX-X4o",
        "colab_type": "code",
        "colab": {
          "base_uri": "https://localhost:8080/",
          "height": 197
        },
        "outputId": "40cbc766-faef-40ad-9d70-56351d4ef57a"
      },
      "source": [
        "\n",
        "x_df= pd.DataFrame(data=x_data, columns=['X Data'])\n",
        "y_df= pd.DataFrame(data=y_true, columns=['Y'])\n",
        "x_df.head()"
      ],
      "execution_count": 48,
      "outputs": [
        {
          "output_type": "execute_result",
          "data": {
            "text/html": [
              "<div>\n",
              "<style scoped>\n",
              "    .dataframe tbody tr th:only-of-type {\n",
              "        vertical-align: middle;\n",
              "    }\n",
              "\n",
              "    .dataframe tbody tr th {\n",
              "        vertical-align: top;\n",
              "    }\n",
              "\n",
              "    .dataframe thead th {\n",
              "        text-align: right;\n",
              "    }\n",
              "</style>\n",
              "<table border=\"1\" class=\"dataframe\">\n",
              "  <thead>\n",
              "    <tr style=\"text-align: right;\">\n",
              "      <th></th>\n",
              "      <th>X Data</th>\n",
              "    </tr>\n",
              "  </thead>\n",
              "  <tbody>\n",
              "    <tr>\n",
              "      <th>0</th>\n",
              "      <td>0.00000</td>\n",
              "    </tr>\n",
              "    <tr>\n",
              "      <th>1</th>\n",
              "      <td>0.00001</td>\n",
              "    </tr>\n",
              "    <tr>\n",
              "      <th>2</th>\n",
              "      <td>0.00002</td>\n",
              "    </tr>\n",
              "    <tr>\n",
              "      <th>3</th>\n",
              "      <td>0.00003</td>\n",
              "    </tr>\n",
              "    <tr>\n",
              "      <th>4</th>\n",
              "      <td>0.00004</td>\n",
              "    </tr>\n",
              "  </tbody>\n",
              "</table>\n",
              "</div>"
            ],
            "text/plain": [
              "    X Data\n",
              "0  0.00000\n",
              "1  0.00001\n",
              "2  0.00002\n",
              "3  0.00003\n",
              "4  0.00004"
            ]
          },
          "metadata": {
            "tags": []
          },
          "execution_count": 48
        }
      ]
    },
    {
      "cell_type": "code",
      "metadata": {
        "id": "SDtqip4F-yyD",
        "colab_type": "code",
        "colab": {
          "base_uri": "https://localhost:8080/",
          "height": 197
        },
        "outputId": "574411d9-0af3-443c-98fe-f68aa6a4b21e"
      },
      "source": [
        "#concatination x_df with y_df column by column7\n",
        "my_data = pd.concat([x_df,y_df],axis=1)\n",
        "my_data.shape\n",
        "#(1000000,2)\n",
        "my_data.head()"
      ],
      "execution_count": 49,
      "outputs": [
        {
          "output_type": "execute_result",
          "data": {
            "text/html": [
              "<div>\n",
              "<style scoped>\n",
              "    .dataframe tbody tr th:only-of-type {\n",
              "        vertical-align: middle;\n",
              "    }\n",
              "\n",
              "    .dataframe tbody tr th {\n",
              "        vertical-align: top;\n",
              "    }\n",
              "\n",
              "    .dataframe thead th {\n",
              "        text-align: right;\n",
              "    }\n",
              "</style>\n",
              "<table border=\"1\" class=\"dataframe\">\n",
              "  <thead>\n",
              "    <tr style=\"text-align: right;\">\n",
              "      <th></th>\n",
              "      <th>X Data</th>\n",
              "      <th>Y</th>\n",
              "    </tr>\n",
              "  </thead>\n",
              "  <tbody>\n",
              "    <tr>\n",
              "      <th>0</th>\n",
              "      <td>0.00000</td>\n",
              "      <td>5.861781</td>\n",
              "    </tr>\n",
              "    <tr>\n",
              "      <th>1</th>\n",
              "      <td>0.00001</td>\n",
              "      <td>5.607024</td>\n",
              "    </tr>\n",
              "    <tr>\n",
              "      <th>2</th>\n",
              "      <td>0.00002</td>\n",
              "      <td>5.725973</td>\n",
              "    </tr>\n",
              "    <tr>\n",
              "      <th>3</th>\n",
              "      <td>0.00003</td>\n",
              "      <td>5.881982</td>\n",
              "    </tr>\n",
              "    <tr>\n",
              "      <th>4</th>\n",
              "      <td>0.00004</td>\n",
              "      <td>5.149999</td>\n",
              "    </tr>\n",
              "  </tbody>\n",
              "</table>\n",
              "</div>"
            ],
            "text/plain": [
              "    X Data         Y\n",
              "0  0.00000  5.861781\n",
              "1  0.00001  5.607024\n",
              "2  0.00002  5.725973\n",
              "3  0.00003  5.881982\n",
              "4  0.00004  5.149999"
            ]
          },
          "metadata": {
            "tags": []
          },
          "execution_count": 49
        }
      ]
    },
    {
      "cell_type": "code",
      "metadata": {
        "id": "kpkQ46Vq_7mX",
        "colab_type": "code",
        "colab": {
          "base_uri": "https://localhost:8080/",
          "height": 300
        },
        "outputId": "22854d88-2911-41a5-b8aa-d2c29ecadd87"
      },
      "source": [
        "my_data.sample(n=1000).plot(kind='scatter',x='X Data', y='Y')"
      ],
      "execution_count": 50,
      "outputs": [
        {
          "output_type": "execute_result",
          "data": {
            "text/plain": [
              "<matplotlib.axes._subplots.AxesSubplot at 0x7f0b56068ac8>"
            ]
          },
          "metadata": {
            "tags": []
          },
          "execution_count": 50
        },
        {
          "output_type": "display_data",
          "data": {
            "image/png": "[encoded data removed]",
            "text/plain": [
              "<Figure size 432x288 with 1 Axes>"
            ]
          },
          "metadata": {
            "tags": []
          }
        }
      ]
    },
    {
      "cell_type": "code",
      "metadata": {
        "id": "i0C7J4O9_aH-",
        "colab_type": "code",
        "colab": {}
      },
      "source": [
        "#create model to fit data \n",
        "batch_size = 8\n",
        "m=tf.Variable(0.1)\n",
        "b= tf.Variable(1.0)\n",
        "init=tf.global_variables_initializer()"
      ],
      "execution_count": 0,
      "outputs": []
    },
    {
      "cell_type": "code",
      "metadata": {
        "id": "VuBPwu8kBpw2",
        "colab_type": "code",
        "colab": {}
      },
      "source": [
        "xph= tf.placeholder(tf.float32,[batch_size])\n",
        "yph= tf.placeholder(tf.float32,[batch_size])"
      ],
      "execution_count": 0,
      "outputs": []
    },
    {
      "cell_type": "code",
      "metadata": {
        "id": "GgLD5M5oB8iT",
        "colab_type": "code",
        "colab": {}
      },
      "source": [
        "y_model = m* xph + b"
      ],
      "execution_count": 0,
      "outputs": []
    },
    {
      "cell_type": "code",
      "metadata": {
        "id": "ancUzVyyC3yB",
        "colab_type": "code",
        "colab": {}
      },
      "source": [
        "error = tf.reduce_sum(tf.square(yph-y_model))\n",
        "#(yph - y model)**2"
      ],
      "execution_count": 0,
      "outputs": []
    },
    {
      "cell_type": "code",
      "metadata": {
        "id": "AgoSPENxDFoj",
        "colab_type": "code",
        "colab": {}
      },
      "source": [
        "optimizer = tf.train.GradientDescentOptimizer(learning_rate=0.001)"
      ],
      "execution_count": 0,
      "outputs": []
    },
    {
      "cell_type": "code",
      "metadata": {
        "id": "H0z-4U1mDz_S",
        "colab_type": "code",
        "colab": {}
      },
      "source": [
        "train = optimizer.minimize(error)"
      ],
      "execution_count": 0,
      "outputs": []
    },
    {
      "cell_type": "code",
      "metadata": {
        "id": "zgBiSCMeD6jW",
        "colab_type": "code",
        "colab": {}
      },
      "source": [
        "with tf.Session() as sess:\n",
        "  sess.run(init)\n",
        "  batches = 528  #number of epoch\n",
        "  for i in range(batches):\n",
        "    #shuffle\n",
        "    rand_ind= np.random.randint(len(x_data), size=batch_size)\n",
        "    feed={xph:x_data[rand_ind], yph:y_true[rand_ind]}\n",
        "    sess.run(train,feed_dict=feed)\n",
        "  model_m, model_b = sess.run([m,b])\n",
        "    \n",
        "    "
      ],
      "execution_count": 0,
      "outputs": []
    },
    {
      "cell_type": "code",
      "metadata": {
        "id": "oJLJ5XMKFO0K",
        "colab_type": "code",
        "outputId": "f4439593-ea83-40b2-af17-10b7ce437a03",
        "colab": {
          "base_uri": "https://localhost:8080/",
          "height": 34
        }
      },
      "source": [
        "model_m , model_b"
      ],
      "execution_count": 58,
      "outputs": [
        {
          "output_type": "execute_result",
          "data": {
            "text/plain": [
              "(0.60562927, 4.953194)"
            ]
          },
          "metadata": {
            "tags": []
          },
          "execution_count": 58
        }
      ]
    },
    {
      "cell_type": "code",
      "metadata": {
        "id": "af8wn4rTFvwM",
        "colab_type": "code",
        "colab": {}
      },
      "source": [
        "y_hat = x_data * model_m + model_b"
      ],
      "execution_count": 0,
      "outputs": []
    },
    {
      "cell_type": "code",
      "metadata": {
        "id": "4_x19049F2dk",
        "colab_type": "code",
        "outputId": "9f4387e6-c3a0-4f76-e8da-14414ed2eba2",
        "colab": {
          "base_uri": "https://localhost:8080/",
          "height": 300
        }
      },
      "source": [
        "my_data.sample(n=250).plot(kind='scatter', x='X Data', y= 'Y')\n",
        "plt.plot(x_data,y_hat,'r')"
      ],
      "execution_count": 60,
      "outputs": [
        {
          "output_type": "execute_result",
          "data": {
            "text/plain": [
              "[<matplotlib.lines.Line2D at 0x7f0b606d0898>]"
            ]
          },
          "metadata": {
            "tags": []
          },
          "execution_count": 60
        },
        {
          "output_type": "display_data",
          "data": {
            "image/png": "[encoded data removed]",
            "text/plain": [
              "<Figure size 432x288 with 1 Axes>"
            ]
          },
          "metadata": {
            "tags": []
          }
        }
      ]
    },
    {
      "cell_type": "markdown",
      "metadata": {
        "id": "Lj5KaZZKSjhD",
        "colab_type": "text"
      },
      "source": [
        "# Using tensorFlow Estimator "
      ]
    },
    {
      "cell_type": "code",
      "metadata": {
        "id": "BV2vqsQZSe7s",
        "colab_type": "code",
        "colab": {}
      },
      "source": [
        "feat_col = [tf.feature_column.numeric_column('x',shape=[1])]"
      ],
      "execution_count": 0,
      "outputs": []
    },
    {
      "cell_type": "code",
      "metadata": {
        "id": "0SAlHRhrTL5N",
        "colab_type": "code",
        "colab": {
          "base_uri": "https://localhost:8080/",
          "height": 196
        },
        "outputId": "f8ea82d3-64e6-4013-f7a1-4328320ab462"
      },
      "source": [
        "estimator= tf.estimator.LinearRegressor(feature_columns=feat_col)"
      ],
      "execution_count": 62,
      "outputs": [
        {
          "output_type": "stream",
          "text": [
            "INFO:tensorflow:Using default config.\n",
            "WARNING:tensorflow:Using temporary folder as model directory: /tmp/tmp90e6qf6h\n",
            "INFO:tensorflow:Using config: {'_model_dir': '/tmp/tmp90e6qf6h', '_tf_random_seed': None, '_save_summary_steps': 100, '_save_checkpoints_steps': None, '_save_checkpoints_secs': 600, '_session_config': allow_soft_placement: true\n",
            "graph_options {\n",
            "  rewrite_options {\n",
            "    meta_optimizer_iterations: ONE\n",
            "  }\n",
            "}\n",
            ", '_keep_checkpoint_max': 5, '_keep_checkpoint_every_n_hours': 10000, '_log_step_count_steps': 100, '_train_distribute': None, '_device_fn': None, '_protocol': None, '_eval_distribute': None, '_experimental_distribute': None, '_service': None, '_cluster_spec': <tensorflow.python.training.server_lib.ClusterSpec object at 0x7f0b606d0630>, '_task_type': 'worker', '_task_id': 0, '_global_id_in_cluster': 0, '_master': '', '_evaluation_master': '', '_is_chief': True, '_num_ps_replicas': 0, '_num_worker_replicas': 1}\n"
          ],
          "name": "stdout"
        }
      ]
    },
    {
      "cell_type": "code",
      "metadata": {
        "id": "iiB4D7NpTl_H",
        "colab_type": "code",
        "colab": {}
      },
      "source": [
        "from sklearn.model_selection import train_test_split\n",
        "x_train, x_eval, y_train, y_eval = train_test_split(x_data,y_true,\n",
        "                                                      test_size=0.3,random_state=101 )"
      ],
      "execution_count": 0,
      "outputs": []
    },
    {
      "cell_type": "code",
      "metadata": {
        "id": "BqUaMd5PUhld",
        "colab_type": "code",
        "colab": {
          "base_uri": "https://localhost:8080/",
          "height": 34
        },
        "outputId": "aa6e90b1-7086-4ce0-9042-1233aec6accb"
      },
      "source": [
        "x_train.shape"
      ],
      "execution_count": 64,
      "outputs": [
        {
          "output_type": "execute_result",
          "data": {
            "text/plain": [
              "(700000,)"
            ]
          },
          "metadata": {
            "tags": []
          },
          "execution_count": 64
        }
      ]
    },
    {
      "cell_type": "code",
      "metadata": {
        "id": "h0ZzwTpaUoWH",
        "colab_type": "code",
        "colab": {}
      },
      "source": [
        "input_fun = tf.estimator.inputs.numpy_input_fn({'x':x_train},y_train,batch_size=4\n",
        "                                                                 ,num_epochs=None, shuffle= True)"
      ],
      "execution_count": 0,
      "outputs": []
    },
    {
      "cell_type": "code",
      "metadata": {
        "id": "-3uXjr5yVmlM",
        "colab_type": "code",
        "colab": {}
      },
      "source": [
        "train_input_fun = tf.estimator.inputs.numpy_input_fn({'x':x_train},y_train,batch_size=4\n",
        "                                                                  ,num_epochs=1000, shuffle= False)"
      ],
      "execution_count": 0,
      "outputs": []
    },
    {
      "cell_type": "code",
      "metadata": {
        "id": "O52eddFOV3KT",
        "colab_type": "code",
        "colab": {}
      },
      "source": [
        "eval_input_fun = tf.estimator.inputs.numpy_input_fn({'x':x_eval},y_eval,batch_size=4\n",
        "                                                                    ,num_epochs=1000, shuffle= False)"
      ],
      "execution_count": 0,
      "outputs": []
    },
    {
      "cell_type": "code",
      "metadata": {
        "id": "HKI8rMDgWCbu",
        "colab_type": "code",
        "colab": {
          "base_uri": "https://localhost:8080/",
          "height": 532
        },
        "outputId": "8e9252c3-426c-4f61-abbb-0c66dbccfee6"
      },
      "source": [
        "estimator.train(input_fn=input_fun, steps=1000)"
      ],
      "execution_count": 68,
      "outputs": [
        {
          "output_type": "stream",
          "text": [
            "INFO:tensorflow:Calling model_fn.\n",
            "INFO:tensorflow:Done calling model_fn.\n",
            "INFO:tensorflow:Create CheckpointSaverHook.\n",
            "INFO:tensorflow:Graph was finalized.\n",
            "INFO:tensorflow:Running local_init_op.\n",
            "INFO:tensorflow:Done running local_init_op.\n",
            "INFO:tensorflow:Saving checkpoints for 0 into /tmp/tmp90e6qf6h/model.ckpt.\n",
            "INFO:tensorflow:loss = 243.98813, step = 1\n",
            "INFO:tensorflow:global_step/sec: 716.655\n",
            "INFO:tensorflow:loss = 8.0394335, step = 101 (0.147 sec)\n",
            "INFO:tensorflow:global_step/sec: 758.664\n",
            "INFO:tensorflow:loss = 11.63283, step = 201 (0.131 sec)\n",
            "INFO:tensorflow:global_step/sec: 854.042\n",
            "INFO:tensorflow:loss = 4.9389505, step = 301 (0.114 sec)\n",
            "INFO:tensorflow:global_step/sec: 868.186\n",
            "INFO:tensorflow:loss = 9.387126, step = 401 (0.119 sec)\n",
            "INFO:tensorflow:global_step/sec: 881.319\n",
            "INFO:tensorflow:loss = 1.3709602, step = 501 (0.114 sec)\n",
            "INFO:tensorflow:global_step/sec: 863.562\n",
            "INFO:tensorflow:loss = 2.2963228, step = 601 (0.113 sec)\n",
            "INFO:tensorflow:global_step/sec: 857.21\n",
            "INFO:tensorflow:loss = 3.15174, step = 701 (0.115 sec)\n",
            "INFO:tensorflow:global_step/sec: 921.631\n",
            "INFO:tensorflow:loss = 1.5287771, step = 801 (0.107 sec)\n",
            "INFO:tensorflow:global_step/sec: 829.898\n",
            "INFO:tensorflow:loss = 0.50701374, step = 901 (0.123 sec)\n",
            "INFO:tensorflow:Saving checkpoints for 1000 into /tmp/tmp90e6qf6h/model.ckpt.\n",
            "INFO:tensorflow:Loss for final step: 0.5557253.\n"
          ],
          "name": "stdout"
        },
        {
          "output_type": "execute_result",
          "data": {
            "text/plain": [
              "<tensorflow_estimator.python.estimator.canned.linear.LinearRegressor at 0x7f0b606d02e8>"
            ]
          },
          "metadata": {
            "tags": []
          },
          "execution_count": 68
        }
      ]
    },
    {
      "cell_type": "code",
      "metadata": {
        "id": "nWfHRFJvXKBO",
        "colab_type": "code",
        "colab": {
          "base_uri": "https://localhost:8080/",
          "height": 372
        },
        "outputId": "672072dd-18bd-43e8-fa0e-d716ba591b82"
      },
      "source": [
        "#evaluation\n",
        "train_metrics = estimator.evaluate(input_fn=train_input_fun, steps=1000)"
      ],
      "execution_count": 69,
      "outputs": [
        {
          "output_type": "stream",
          "text": [
            "INFO:tensorflow:Calling model_fn.\n",
            "INFO:tensorflow:Done calling model_fn.\n",
            "INFO:tensorflow:Starting evaluation at 2019-05-24T01:09:12Z\n",
            "INFO:tensorflow:Graph was finalized.\n",
            "INFO:tensorflow:Restoring parameters from /tmp/tmp90e6qf6h/model.ckpt-1000\n",
            "INFO:tensorflow:Running local_init_op.\n",
            "INFO:tensorflow:Done running local_init_op.\n",
            "INFO:tensorflow:Evaluation [100/1000]\n",
            "INFO:tensorflow:Evaluation [200/1000]\n",
            "INFO:tensorflow:Evaluation [300/1000]\n",
            "INFO:tensorflow:Evaluation [400/1000]\n",
            "INFO:tensorflow:Evaluation [500/1000]\n",
            "INFO:tensorflow:Evaluation [600/1000]\n",
            "INFO:tensorflow:Evaluation [700/1000]\n",
            "INFO:tensorflow:Evaluation [800/1000]\n",
            "INFO:tensorflow:Evaluation [900/1000]\n",
            "INFO:tensorflow:Evaluation [1000/1000]\n",
            "INFO:tensorflow:Finished evaluation at 2019-05-24-01:09:13\n",
            "INFO:tensorflow:Saving dict for global step 1000: average_loss = 0.22223668, global_step = 1000, label/mean = 8.00929, loss = 0.8889467, prediction/mean = 7.8310795\n",
            "INFO:tensorflow:Saving 'checkpoint_path' summary for global step 1000: /tmp/tmp90e6qf6h/model.ckpt-1000\n"
          ],
          "name": "stdout"
        }
      ]
    },
    {
      "cell_type": "code",
      "metadata": {
        "id": "v5MqfC9JXxMN",
        "colab_type": "code",
        "colab": {
          "base_uri": "https://localhost:8080/",
          "height": 372
        },
        "outputId": "40eca247-2006-43ad-f21a-9c78145d97a5"
      },
      "source": [
        "eval_metrics = estimator.evaluate(input_fn=eval_input_fun, steps=1000)"
      ],
      "execution_count": 70,
      "outputs": [
        {
          "output_type": "stream",
          "text": [
            "INFO:tensorflow:Calling model_fn.\n",
            "INFO:tensorflow:Done calling model_fn.\n",
            "INFO:tensorflow:Starting evaluation at 2019-05-24T01:09:14Z\n",
            "INFO:tensorflow:Graph was finalized.\n",
            "INFO:tensorflow:Restoring parameters from /tmp/tmp90e6qf6h/model.ckpt-1000\n",
            "INFO:tensorflow:Running local_init_op.\n",
            "INFO:tensorflow:Done running local_init_op.\n",
            "INFO:tensorflow:Evaluation [100/1000]\n",
            "INFO:tensorflow:Evaluation [200/1000]\n",
            "INFO:tensorflow:Evaluation [300/1000]\n",
            "INFO:tensorflow:Evaluation [400/1000]\n",
            "INFO:tensorflow:Evaluation [500/1000]\n",
            "INFO:tensorflow:Evaluation [600/1000]\n",
            "INFO:tensorflow:Evaluation [700/1000]\n",
            "INFO:tensorflow:Evaluation [800/1000]\n",
            "INFO:tensorflow:Evaluation [900/1000]\n",
            "INFO:tensorflow:Evaluation [1000/1000]\n",
            "INFO:tensorflow:Finished evaluation at 2019-05-24-01:09:15\n",
            "INFO:tensorflow:Saving dict for global step 1000: average_loss = 0.22758406, global_step = 1000, label/mean = 7.9788756, loss = 0.91033626, prediction/mean = 7.7909374\n",
            "INFO:tensorflow:Saving 'checkpoint_path' summary for global step 1000: /tmp/tmp90e6qf6h/model.ckpt-1000\n"
          ],
          "name": "stdout"
        }
      ]
    },
    {
      "cell_type": "code",
      "metadata": {
        "id": "e3yaIveiYMXE",
        "colab_type": "code",
        "colab": {}
      },
      "source": [
        "eval_metrics"
      ],
      "execution_count": 0,
      "outputs": []
    },
    {
      "cell_type": "code",
      "metadata": {
        "id": "BX0ZaksAYUqU",
        "colab_type": "code",
        "colab": {}
      },
      "source": [
        "train_metrics"
      ],
      "execution_count": 0,
      "outputs": []
    },
    {
      "cell_type": "code",
      "metadata": {
        "id": "Uz5xGeUfZDaU",
        "colab_type": "code",
        "colab": {}
      },
      "source": [
        "#prediction\n",
        "input_pred=np.linspace(0,10,10)\n",
        "input_fn_predict =  tf.estimator.inputs.numpy_input_fn({'x':input_pred},shuffle= False)"
      ],
      "execution_count": 0,
      "outputs": []
    },
    {
      "cell_type": "code",
      "metadata": {
        "id": "suzZbF5cZaAL",
        "colab_type": "code",
        "colab": {
          "base_uri": "https://localhost:8080/",
          "height": 301
        },
        "outputId": "4f5e6aa3-f570-4761-a0b3-aab17d0dd2dc"
      },
      "source": [
        "list(estimator.predict(input_fn=input_fn_predict))"
      ],
      "execution_count": 88,
      "outputs": [
        {
          "output_type": "stream",
          "text": [
            "INFO:tensorflow:Calling model_fn.\n",
            "INFO:tensorflow:Done calling model_fn.\n",
            "INFO:tensorflow:Graph was finalized.\n",
            "INFO:tensorflow:Restoring parameters from /tmp/tmp90e6qf6h/model.ckpt-1000\n",
            "INFO:tensorflow:Running local_init_op.\n",
            "INFO:tensorflow:Done running local_init_op.\n"
          ],
          "name": "stdout"
        },
        {
          "output_type": "execute_result",
          "data": {
            "text/plain": [
              "[{'predictions': array([4.73858], dtype=float32)},\n",
              " {'predictions': array([5.421714], dtype=float32)},\n",
              " {'predictions': array([6.1048474], dtype=float32)},\n",
              " {'predictions': array([6.787981], dtype=float32)},\n",
              " {'predictions': array([7.471115], dtype=float32)},\n",
              " {'predictions': array([8.154248], dtype=float32)},\n",
              " {'predictions': array([8.837381], dtype=float32)},\n",
              " {'predictions': array([9.520515], dtype=float32)},\n",
              " {'predictions': array([10.2036495], dtype=float32)},\n",
              " {'predictions': array([10.886783], dtype=float32)}]"
            ]
          },
          "metadata": {
            "tags": []
          },
          "execution_count": 88
        }
      ]
    },
    {
      "cell_type": "code",
      "metadata": {
        "id": "vyumFU5SZuP_",
        "colab_type": "code",
        "colab": {
          "base_uri": "https://localhost:8080/",
          "height": 123
        },
        "outputId": "f47a7930-290c-4110-bc62-ef1b32ff510b"
      },
      "source": [
        "prediction = []\n",
        "for x in estimator.predict(input_fn=input_fn_predict):\n",
        "  prediction.append(x['predictions'])"
      ],
      "execution_count": 82,
      "outputs": [
        {
          "output_type": "stream",
          "text": [
            "INFO:tensorflow:Calling model_fn.\n",
            "INFO:tensorflow:Done calling model_fn.\n",
            "INFO:tensorflow:Graph was finalized.\n",
            "INFO:tensorflow:Restoring parameters from /tmp/tmp90e6qf6h/model.ckpt-1000\n",
            "INFO:tensorflow:Running local_init_op.\n",
            "INFO:tensorflow:Done running local_init_op.\n"
          ],
          "name": "stdout"
        }
      ]
    },
    {
      "cell_type": "code",
      "metadata": {
        "id": "o8xXksSPaJO7",
        "colab_type": "code",
        "colab": {
          "base_uri": "https://localhost:8080/",
          "height": 230
        },
        "outputId": "8b0602d8-9e0d-415e-e995-298850aec3f3"
      },
      "source": [
        "input_pred,   prediction\n"
      ],
      "execution_count": 92,
      "outputs": [
        {
          "output_type": "execute_result",
          "data": {
            "text/plain": [
              "(array([ 0.        ,  1.11111111,  2.22222222,  3.33333333,  4.44444444,\n",
              "         5.55555556,  6.66666667,  7.77777778,  8.88888889, 10.        ]),\n",
              " [array([4.73858], dtype=float32),\n",
              "  array([5.421714], dtype=float32),\n",
              "  array([6.1048474], dtype=float32),\n",
              "  array([6.787981], dtype=float32),\n",
              "  array([7.471115], dtype=float32),\n",
              "  array([8.154248], dtype=float32),\n",
              "  array([8.837381], dtype=float32),\n",
              "  array([9.520515], dtype=float32),\n",
              "  array([10.2036495], dtype=float32),\n",
              "  array([10.886783], dtype=float32)])"
            ]
          },
          "metadata": {
            "tags": []
          },
          "execution_count": 92
        }
      ]
    },
    {
      "cell_type": "code",
      "metadata": {
        "id": "u_FY5AbYd5Fe",
        "colab_type": "code",
        "colab": {}
      },
      "source": [
        ""
      ],
      "execution_count": 0,
      "outputs": []
    },
    {
      "cell_type": "code",
      "metadata": {
        "id": "VPwa4zjPaQ__",
        "colab_type": "code",
        "colab": {
          "base_uri": "https://localhost:8080/",
          "height": 300
        },
        "outputId": "8ebde4bb-20b3-45fd-e04a-eda23935c938"
      },
      "source": [
        "my_data.sample(n=100).plot(kind='scatter', x= 'X Data' , y= 'Y')\n",
        "plt.plot(np.linspace(0,10,10),prediction,'r')"
      ],
      "execution_count": 86,
      "outputs": [
        {
          "output_type": "execute_result",
          "data": {
            "text/plain": [
              "[<matplotlib.lines.Line2D at 0x7f0b60544cf8>]"
            ]
          },
          "metadata": {
            "tags": []
          },
          "execution_count": 86
        },
        {
          "output_type": "display_data",
          "data": {
            "image/png": "[encoded data removed]",
            "text/plain": [
              "<Figure size 432x288 with 1 Axes>"
            ]
          },
          "metadata": {
            "tags": []
          }
        }
      ]
    }
  ]
}