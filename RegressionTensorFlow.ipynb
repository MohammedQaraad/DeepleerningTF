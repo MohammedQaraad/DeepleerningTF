{
  "nbformat": 4,
  "nbformat_minor": 0,
  "metadata": {
    "colab": {
      "name": "RegressionTensorFlow.ipynb",
      "version": "0.3.2",
      "provenance": [],
      "include_colab_link": true
    },
    "kernelspec": {
      "name": "python3",
      "display_name": "Python 3"
    }
  },
  "cells": [
    {
      "cell_type": "markdown",
      "metadata": {
        "id": "view-in-github",
        "colab_type": "text"
      },
      "source": [
        "<a href=\"https://colab.research.google.com/github/MohammedQaraad/DeepleerningTF/blob/master/RegressionTensorFlow.ipynb\" target=\"_parent\"><img src=\"https://colab.research.google.com/assets/colab-badge.svg\" alt=\"Open In Colab\"/></a>"
      ]
    },
    {
      "cell_type": "code",
      "metadata": {
        "id": "XnTJnnsL8ebQ",
        "colab_type": "code",
        "colab": {}
      },
      "source": [
        "import tensorflow as tf\n",
        "import numpy as np\n",
        "import pandas as pd\n",
        "import matplotlib.pyplot as plt"
      ],
      "execution_count": 0,
      "outputs": []
    },
    {
      "cell_type": "code",
      "metadata": {
        "id": "evpzyQZI9G8o",
        "colab_type": "code",
        "colab": {}
      },
      "source": [
        "x_data= np.linspace(0.0,10.0,1000000)\n",
        "x_data.shape"
      ],
      "execution_count": 0,
      "outputs": []
    },
    {
      "cell_type": "code",
      "metadata": {
        "id": "XdZQbi6H9aKy",
        "colab_type": "code",
        "outputId": "e047078f-cb00-4487-9d69-c8f1a7e66eeb",
        "colab": {
          "base_uri": "https://localhost:8080/",
          "height": 34
        }
      },
      "source": [
        "noise= np.random.random(len(x_data))\n",
        "noise.shape\n",
        "noise[:5]"
      ],
      "execution_count": 0,
      "outputs": [
        {
          "output_type": "execute_result",
          "data": {
            "text/plain": [
              "array([0.16169696, 0.74380596, 0.35525118, 0.4787403 , 0.32374641])"
            ]
          },
          "metadata": {
            "tags": []
          },
          "execution_count": 10
        }
      ]
    },
    {
      "cell_type": "code",
      "metadata": {
        "id": "85giz2Qv9s21",
        "colab_type": "code",
        "colab": {}
      },
      "source": [
        "#assign random value to M and b and calculate\n",
        "#y_true = m *x + b + noise\n",
        "#we added noise to our dataset due our x_data is \n",
        "#very coorelated \n",
        "b=5\n",
        "m=0.5\n",
        "y_true= (m * x_data) + b + noise\n",
        "print(y_true.shape)\n",
        "y_true[:5]"
      ],
      "execution_count": 0,
      "outputs": []
    },
    {
      "cell_type": "code",
      "metadata": {
        "id": "IiW5KOlX-X4o",
        "colab_type": "code",
        "colab": {}
      },
      "source": [
        "\n",
        "x_df= pd.DataFrame(data=x_data, columns=['X Data'])\n",
        "y_df= pd.DataFrame(data=y_true, columns=['Y'])\n",
        "x_df.head()"
      ],
      "execution_count": 0,
      "outputs": []
    },
    {
      "cell_type": "code",
      "metadata": {
        "id": "SDtqip4F-yyD",
        "colab_type": "code",
        "colab": {}
      },
      "source": [
        "#concatination x_df with y_df column by column7\n",
        "my_data = pd.concat([x_df,y_df],axis=1)\n",
        "my_data.shape\n",
        "#(1000000,2)\n",
        "my_data.head()"
      ],
      "execution_count": 0,
      "outputs": []
    },
    {
      "cell_type": "code",
      "metadata": {
        "id": "kpkQ46Vq_7mX",
        "colab_type": "code",
        "colab": {}
      },
      "source": [
        "my_data.sample(n=1000).plot(kind='scatter',x='X Data', y='Y')"
      ],
      "execution_count": 0,
      "outputs": []
    },
    {
      "cell_type": "code",
      "metadata": {
        "id": "i0C7J4O9_aH-",
        "colab_type": "code",
        "colab": {}
      },
      "source": [
        "#create model to fit data \n",
        "batch_size = 8\n",
        "m=tf.Variable(0.1)\n",
        "b= tf.Variable(1.0)\n",
        "init=tf.global_variables_initializer()"
      ],
      "execution_count": 0,
      "outputs": []
    },
    {
      "cell_type": "code",
      "metadata": {
        "id": "VuBPwu8kBpw2",
        "colab_type": "code",
        "colab": {}
      },
      "source": [
        "xph= tf.placeholder(tf.float32,[batch_size])\n",
        "yph= tf.placeholder(tf.float32,[batch_size])"
      ],
      "execution_count": 0,
      "outputs": []
    },
    {
      "cell_type": "code",
      "metadata": {
        "id": "GgLD5M5oB8iT",
        "colab_type": "code",
        "colab": {}
      },
      "source": [
        "y_model = m* xph + b"
      ],
      "execution_count": 0,
      "outputs": []
    },
    {
      "cell_type": "code",
      "metadata": {
        "id": "ancUzVyyC3yB",
        "colab_type": "code",
        "colab": {}
      },
      "source": [
        "error = tf.reduce_sum(tf.square(yph-y_model))\n",
        "#(yph - y model)**2"
      ],
      "execution_count": 0,
      "outputs": []
    },
    {
      "cell_type": "code",
      "metadata": {
        "id": "AgoSPENxDFoj",
        "colab_type": "code",
        "colab": {}
      },
      "source": [
        "optimizer = tf.train.GradientDescentOptimizer(learning_rate=0.001)"
      ],
      "execution_count": 0,
      "outputs": []
    },
    {
      "cell_type": "code",
      "metadata": {
        "id": "H0z-4U1mDz_S",
        "colab_type": "code",
        "colab": {}
      },
      "source": [
        "train = optimizer.minimize(error)"
      ],
      "execution_count": 0,
      "outputs": []
    },
    {
      "cell_type": "code",
      "metadata": {
        "id": "zgBiSCMeD6jW",
        "colab_type": "code",
        "colab": {}
      },
      "source": [
        "with tf.Session() as sess:\n",
        "  sess.run(init)\n",
        "  batches = 528  #number of epoch\n",
        "  for i in range(batches):\n",
        "    #shuffle\n",
        "    rand_ind= np.random.randint(len(x_data), size=batch_size)\n",
        "    feed={xph:x_data[rand_ind], yph:y_true[rand_ind]}\n",
        "    sess.run(train,feed_dict=feed)\n",
        "  model_m, model_b = sess.run([m,b])\n",
        "    \n",
        "    "
      ],
      "execution_count": 0,
      "outputs": []
    },
    {
      "cell_type": "code",
      "metadata": {
        "id": "oJLJ5XMKFO0K",
        "colab_type": "code",
        "outputId": "52f8911e-e694-4b6b-922f-5991692d64de",
        "colab": {
          "base_uri": "https://localhost:8080/",
          "height": 34
        }
      },
      "source": [
        "model_m , model_b"
      ],
      "execution_count": 0,
      "outputs": [
        {
          "output_type": "execute_result",
          "data": {
            "text/plain": [
              "(0.57146347, 4.9370403)"
            ]
          },
          "metadata": {
            "tags": []
          },
          "execution_count": 57
        }
      ]
    },
    {
      "cell_type": "code",
      "metadata": {
        "id": "af8wn4rTFvwM",
        "colab_type": "code",
        "colab": {}
      },
      "source": [
        "y_hat = x_data * model_m + model_b"
      ],
      "execution_count": 0,
      "outputs": []
    },
    {
      "cell_type": "code",
      "metadata": {
        "id": "4_x19049F2dk",
        "colab_type": "code",
        "outputId": "8039879c-6437-445c-978c-e89f9900bb70",
        "colab": {
          "base_uri": "https://localhost:8080/",
          "height": 300
        }
      },
      "source": [
        "my_data.sample(n=250).plot(kind='scatter', x='X Data', y= 'Y')\n",
        "plt.plot(x_data,y_hat,'r')"
      ],
      "execution_count": 0,
      "outputs": [
        {
          "output_type": "execute_result",
          "data": {
            "text/plain": [
              "[<matplotlib.lines.Line2D at 0x7fe049b2b0f0>]"
            ]
          },
          "metadata": {
            "tags": []
          },
          "execution_count": 60
        },
        {
          "output_type": "display_data",
          "data": {
            "image/png": "[encoded data removed]",
            "text/plain": [
              "<Figure size 432x288 with 1 Axes>"
            ]
          },
          "metadata": {
            "tags": []
          }
        }
      ]
    }
  ]
}